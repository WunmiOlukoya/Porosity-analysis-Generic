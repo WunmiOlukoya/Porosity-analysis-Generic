{
 "cells": [
  {
   "cell_type": "markdown",
   "metadata": {},
   "source": [
    "### Create a file for the threhsold values for each sample/tower"
   ]
  },
  {
   "cell_type": "code",
   "execution_count": 1,
   "metadata": {},
   "outputs": [],
   "source": [
    "# Set up the module for the porosity_analysis packages  \n",
    "\n",
    "import os \n",
    "import sys \n",
    "\n",
    "Pyro_module  = '../20250312_PorosityAnalysis/porosity_analysis'\n",
    "# Add the parent directory of Pyro_DataAnalysis to the system path\n",
    "if os.path.exists(Pyro_module) == True:\n",
    "    sys.path.insert(0, os.path.abspath(Pyro_module))\n",
    "else :\n",
    "    print('The file does not exist')"
   ]
  },
  {
   "cell_type": "code",
   "execution_count": null,
   "metadata": {},
   "outputs": [],
   "source": [
    "#import statements \n",
    "import pandas as pd \n",
    "import matplotlib.pyplot as plt\n",
    "import seaborn as sns \n",
    "import os \n",
    "import numpy as np\n",
    "\n",
    "from skimage.filters import difference_of_gaussians,gaussian\n",
    "from skimage.filters import threshold_otsu\n",
    "from skimage.segmentation import clear_border\n",
    "from skimage.measure import label, regionprops,regionprops_table ,find_contours\n",
    "from skimage.color import label2rgb\n",
    "import matplotlib.patches as mpatches\n",
    "import imageio.v3 as iio\n",
    "\n",
    "import config \n",
    "import custom_funcs \n",
    "import image_analysis as ia"
   ]
  },
  {
   "cell_type": "code",
   "execution_count": 3,
   "metadata": {},
   "outputs": [],
   "source": [
    "from PIL import ImageFile\n",
    "ImageFile.LOAD_TRUNCATED_IMAGES = True\n",
    "\n",
    "import PIL.Image\n",
    "PIL.Image.MAX_IMAGE_PIXELS = 3019898880"
   ]
  },
  {
   "cell_type": "code",
   "execution_count": 4,
   "metadata": {},
   "outputs": [],
   "source": [
    "# Google drive location \n",
    "experimental_dir = config.technical_dir_path"
   ]
  },
  {
   "cell_type": "code",
   "execution_count": 48,
   "metadata": {},
   "outputs": [],
   "source": [
    "# Save location\n",
    "df_save_loc = os.path.join(experimental_dir,'data/processed/global_threshold.csv')"
   ]
  },
  {
   "cell_type": "code",
   "execution_count": 50,
   "metadata": {},
   "outputs": [],
   "source": [
    "df_done = pd.read_csv(df_save_loc)\n",
    "ref_im_done = list(df_done['ref_im'])"
   ]
  },
  {
   "cell_type": "markdown",
   "metadata": {},
   "source": [
    "### Pre-processing in Fiji\n",
    "\n",
    "#### Before anything can happen:\n",
    "- The images should be cropped to just the relevant area\n",
    "- Saved all images in .png in the processed folder \n",
    "- Put full images for thresholding in thresholding folder"
   ]
  },
  {
   "cell_type": "markdown",
   "metadata": {},
   "source": [
    "### Reference image for thresholding "
   ]
  },
  {
   "cell_type": "code",
   "execution_count": 51,
   "metadata": {},
   "outputs": [
    {
     "data": {
      "text/plain": [
       "True"
      ]
     },
     "execution_count": 51,
     "metadata": {},
     "output_type": "execute_result"
    }
   ],
   "source": [
    "ref_im_dir = os.path.join(experimental_dir,'data/processed/thresholding')\n",
    "os.path.exists(ref_im_dir)"
   ]
  },
  {
   "cell_type": "code",
   "execution_count": 52,
   "metadata": {},
   "outputs": [],
   "source": [
    "df = pd.DataFrame(columns= ['ref_im','date','Material','Designation','Otsu']) # Create Dataframe with the column headings"
   ]
  },
  {
   "cell_type": "code",
   "execution_count": 53,
   "metadata": {},
   "outputs": [
    {
     "name": "stderr",
     "output_type": "stream",
     "text": [
      "C:\\Users\\Neil\\AppData\\Local\\Temp\\ipykernel_14768\\2015535755.py:27: FutureWarning: The behavior of DataFrame concatenation with empty or all-NA entries is deprecated. In a future version, this will no longer exclude empty or all-NA columns when determining the result dtypes. To retain the old behavior, exclude the relevant entries before the concat operation.\n",
      "  df = pd.concat([df, pd.DataFrame([{'ref_im': ref_im, 'date': date, 'Material': Material, 'Designation': Designation, 'Otsu': Otsu}])], ignore_index=True)\n"
     ]
    }
   ],
   "source": [
    "\n",
    "for ref_im in os.listdir(ref_im_dir):\n",
    "    parts = ref_im.split(\"_\")\n",
    "\n",
    "    if ref_im in ref_im_done:\n",
    "        continue\n",
    "    \n",
    "    if len(parts) >= 3: #check if the filename is in the correct format.\n",
    "            date = parts[0]\n",
    "            Material = parts[1]\n",
    "            Designation = parts[2]\n",
    "\n",
    "            # load image\n",
    "            ref_img = os.path.join(ref_im_dir, ref_im)\n",
    "            \n",
    "            im = custom_funcs.load_image(ref_img)\n",
    "            ## check if an image is greyscale\n",
    "            gs_img = custom_funcs.is_greyscale(im)\n",
    "            \n",
    "            # Clean image \n",
    "            image_blur = gaussian(gs_img,2)\n",
    "            # Get threshold value \n",
    "            Otsu = threshold_otsu(image_blur)\n",
    "            after_Otsu = image_blur < Otsu\n",
    "\n",
    "\n",
    "            # Append to DataFrame\n",
    "            df = pd.concat([df, pd.DataFrame([{'ref_im': ref_im, 'date': date, 'Material': Material, 'Designation': Designation, 'Otsu': Otsu}])], ignore_index=True)\n",
    "            \n",
    "\n"
   ]
  },
  {
   "cell_type": "markdown",
   "metadata": {},
   "source": [
    "### Create df "
   ]
  },
  {
   "cell_type": "code",
   "execution_count": 59,
   "metadata": {},
   "outputs": [],
   "source": [
    "df.to_csv(df_save_loc, index=False, header=False, mode='a')"
   ]
  },
  {
   "cell_type": "code",
   "execution_count": 60,
   "metadata": {},
   "outputs": [
    {
     "data": {
      "text/html": [
       "<div>\n",
       "<style scoped>\n",
       "    .dataframe tbody tr th:only-of-type {\n",
       "        vertical-align: middle;\n",
       "    }\n",
       "\n",
       "    .dataframe tbody tr th {\n",
       "        vertical-align: top;\n",
       "    }\n",
       "\n",
       "    .dataframe thead th {\n",
       "        text-align: right;\n",
       "    }\n",
       "</style>\n",
       "<table border=\"1\" class=\"dataframe\">\n",
       "  <thead>\n",
       "    <tr style=\"text-align: right;\">\n",
       "      <th></th>\n",
       "      <th>ref_im</th>\n",
       "      <th>date</th>\n",
       "      <th>Material</th>\n",
       "      <th>Designation</th>\n",
       "      <th>Otsu</th>\n",
       "    </tr>\n",
       "  </thead>\n",
       "  <tbody>\n",
       "    <tr>\n",
       "      <th>0</th>\n",
       "      <td>20250310_Nickel_02_00_thresh.png</td>\n",
       "      <td>20250310</td>\n",
       "      <td>Nickel</td>\n",
       "      <td>02</td>\n",
       "      <td>0.534619</td>\n",
       "    </tr>\n",
       "    <tr>\n",
       "      <th>1</th>\n",
       "      <td>20250310_Nickel_01_thresh.png</td>\n",
       "      <td>20250310</td>\n",
       "      <td>Nickel</td>\n",
       "      <td>01</td>\n",
       "      <td>0.537771</td>\n",
       "    </tr>\n",
       "    <tr>\n",
       "      <th>2</th>\n",
       "      <td>20250310_Nickel_05_thresh.png</td>\n",
       "      <td>20250310</td>\n",
       "      <td>Nickel</td>\n",
       "      <td>05</td>\n",
       "      <td>0.528401</td>\n",
       "    </tr>\n",
       "    <tr>\n",
       "      <th>3</th>\n",
       "      <td>20250310_Nickel_04_thresh.png</td>\n",
       "      <td>20250310</td>\n",
       "      <td>Nickel</td>\n",
       "      <td>04</td>\n",
       "      <td>0.534359</td>\n",
       "    </tr>\n",
       "    <tr>\n",
       "      <th>4</th>\n",
       "      <td>20250310_Nickel_03_thresh.png</td>\n",
       "      <td>20250310</td>\n",
       "      <td>Nickel</td>\n",
       "      <td>03</td>\n",
       "      <td>0.535766</td>\n",
       "    </tr>\n",
       "    <tr>\n",
       "      <th>5</th>\n",
       "      <td>20250219_Nickel_03_thresh.png</td>\n",
       "      <td>20250219</td>\n",
       "      <td>Nickel</td>\n",
       "      <td>03</td>\n",
       "      <td>0.420022</td>\n",
       "    </tr>\n",
       "    <tr>\n",
       "      <th>6</th>\n",
       "      <td>20250312_Nickel_02_thresh.png</td>\n",
       "      <td>20250312</td>\n",
       "      <td>Nickel</td>\n",
       "      <td>02</td>\n",
       "      <td>0.528459</td>\n",
       "    </tr>\n",
       "    <tr>\n",
       "      <th>7</th>\n",
       "      <td>20250312_Nickel_01_thresh.png</td>\n",
       "      <td>20250312</td>\n",
       "      <td>Nickel</td>\n",
       "      <td>01</td>\n",
       "      <td>0.401673</td>\n",
       "    </tr>\n",
       "  </tbody>\n",
       "</table>\n",
       "</div>"
      ],
      "text/plain": [
       "                             ref_im      date Material Designation      Otsu\n",
       "0  20250310_Nickel_02_00_thresh.png  20250310   Nickel          02  0.534619\n",
       "1     20250310_Nickel_01_thresh.png  20250310   Nickel          01  0.537771\n",
       "2     20250310_Nickel_05_thresh.png  20250310   Nickel          05  0.528401\n",
       "3     20250310_Nickel_04_thresh.png  20250310   Nickel          04  0.534359\n",
       "4     20250310_Nickel_03_thresh.png  20250310   Nickel          03  0.535766\n",
       "5     20250219_Nickel_03_thresh.png  20250219   Nickel          03  0.420022\n",
       "6     20250312_Nickel_02_thresh.png  20250312   Nickel          02  0.528459\n",
       "7     20250312_Nickel_01_thresh.png  20250312   Nickel          01  0.401673"
      ]
     },
     "execution_count": 60,
     "metadata": {},
     "output_type": "execute_result"
    }
   ],
   "source": [
    "df"
   ]
  }
 ],
 "metadata": {
  "kernelspec": {
   "display_name": "ImageAnalysis",
   "language": "python",
   "name": "python3"
  },
  "language_info": {
   "codemirror_mode": {
    "name": "ipython",
    "version": 3
   },
   "file_extension": ".py",
   "mimetype": "text/x-python",
   "name": "python",
   "nbconvert_exporter": "python",
   "pygments_lexer": "ipython3",
   "version": "3.12.8"
  }
 },
 "nbformat": 4,
 "nbformat_minor": 2
}
