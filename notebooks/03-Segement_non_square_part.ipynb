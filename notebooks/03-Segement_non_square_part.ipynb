{
 "cells": [
  {
   "cell_type": "markdown",
   "id": "9f633137",
   "metadata": {},
   "source": [
    "# The Aim of this notebook is to generate porosity data from a non-square part.\n",
    "\n",
    "To do this, we will: \n",
    "- Read the image in. \n",
    "- Find the largest feature. \n",
    "- Create a mask that of the largest feature. \n",
    "- Segment the porosity. \n",
    "- Calculate area fraction."
   ]
  },
  {
   "cell_type": "code",
   "execution_count": 71,
   "id": "1dcfe002",
   "metadata": {},
   "outputs": [],
   "source": [
    "#import statements \n",
    "import pandas as pd \n",
    "import matplotlib.pyplot as plt\n",
    "import seaborn as sns \n",
    "import os \n",
    "import numpy as np\n",
    "\n",
    "from skimage.filters import difference_of_gaussians,gaussian\n",
    "from skimage.filters import threshold_otsu\n",
    "from skimage.segmentation import clear_border\n",
    "from skimage.measure import label, regionprops,regionprops_table ,find_contours\n",
    "from skimage.color import label2rgb,rgb2gray\n",
    "import matplotlib.patches as mpatches\n",
    "import imageio.v3 as iio\n",
    "from skimage.morphology import remove_small_holes, remove_small_objects, binary_dilation, binary_erosion\n",
    "# Fill in the empty holes \n",
    "from scipy.ndimage import binary_fill_holes"
   ]
  },
  {
   "cell_type": "code",
   "execution_count": 15,
   "id": "a053b84b",
   "metadata": {},
   "outputs": [],
   "source": [
    "def show_before_after(image_before, image_after, str_change, i_cmap):\n",
    "    if i_cmap == 1:\n",
    "        str_cmap = \"gray\"\n",
    "    elif i_cmap == 2:\n",
    "        str_cmap = \"plasma\"\n",
    "    elif i_cmap == 3:\n",
    "        str_cmap = \"seismic\"\n",
    "    fig,axes = plt.subplots(1,2,figsize=(12,4))\n",
    "    axes[0].imshow(image_before, cmap=str_cmap)\n",
    "    axes[0].set_title(\"Before \"+str_change)\n",
    "    axes[1].imshow(image_after, cmap=str_cmap)\n",
    "    axes[1].set_title(\"After \"+str_change)\n"
   ]
  },
  {
   "cell_type": "code",
   "execution_count": null,
   "id": "5e33fa67",
   "metadata": {},
   "outputs": [
    {
     "data": {
      "text/plain": [
       "True"
      ]
     },
     "execution_count": 9,
     "metadata": {},
     "output_type": "execute_result"
    }
   ],
   "source": [
    "test_img_file = '../data/Sample_data/20250129_AlSi_01.png'\n",
    "os.path.exists(test_img_file)"
   ]
  },
  {
   "cell_type": "markdown",
   "id": "04b06247",
   "metadata": {},
   "source": [
    "### Clean the image to get a good outline"
   ]
  },
  {
   "cell_type": "code",
   "execution_count": 73,
   "id": "f6a16371",
   "metadata": {},
   "outputs": [],
   "source": [
    "def percentage_porosity_largePart(file_name):    \n",
    "# Read image\n",
    "    img = plt.imread(test_img_file)\n",
    "    image_grayscale = rgb2gray(img)\n",
    "\n",
    "    #Otsu threhold to get greyscale image.\n",
    "    thresh = threshold_otsu(image_grayscale)\n",
    "    binary = image_grayscale > thresh\n",
    "\n",
    "    # Remove artifacts from the image\n",
    "    removed_small_objects = remove_small_objects(binary, 6,False)\n",
    "    tidy_image = remove_small_holes(removed_small_objects, area_threshold=5)\n",
    "\n",
    "    # label image regions\n",
    "    label_image = label(tidy_image)\n",
    "\n",
    "    regions = regionprops(label_image)\n",
    "\n",
    "    # Find the region with the largest area\n",
    "    if regions:\n",
    "        largest_region = max(regions, key=lambda r: r.area)\n",
    "        \n",
    "        # Create a new mask containing only the largest object\n",
    "        # The new mask will have 1s where the largest object is, and 0s elsewhere.\n",
    "        largest_object_mask = (label_image == largest_region.label)\n",
    "    else:\n",
    "        print(\"No objects found in the image mask.\")\n",
    "\n",
    "    filled_mask = binary_fill_holes(largest_object_mask)\n",
    "\n",
    "    holes_mask = filled_mask != largest_object_mask\n",
    "\n",
    "    labeled_holes = label(holes_mask)\n",
    "\n",
    "    props = regionprops_table(labeled_holes, properties=['label', 'area'])\n",
    "    data = pd.DataFrame(props)  \n",
    "    sum_pores_px = data.area.sum()\n",
    "    Total_Area =np.count_nonzero(filled_mask)\n",
    "\n",
    "    percentage_porosity = (1 - (sum_pores_px/Total_Area)) * 100\n",
    "    return percentage_porosity"
   ]
  },
  {
   "cell_type": "code",
   "execution_count": 74,
   "id": "bb7803f5",
   "metadata": {},
   "outputs": [
    {
     "data": {
      "text/plain": [
       "91.38779462721176"
      ]
     },
     "execution_count": 74,
     "metadata": {},
     "output_type": "execute_result"
    }
   ],
   "source": [
    "percentage_porosity_largePart(test_img_file)"
   ]
  }
 ],
 "metadata": {
  "kernelspec": {
   "display_name": "AutoAm",
   "language": "python",
   "name": "python3"
  },
  "language_info": {
   "codemirror_mode": {
    "name": "ipython",
    "version": 3
   },
   "file_extension": ".py",
   "mimetype": "text/x-python",
   "name": "python",
   "nbconvert_exporter": "python",
   "pygments_lexer": "ipython3",
   "version": "3.12.8"
  }
 },
 "nbformat": 4,
 "nbformat_minor": 5
}
